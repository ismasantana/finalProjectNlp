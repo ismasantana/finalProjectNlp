{
  "nbformat": 4,
  "nbformat_minor": 0,
  "metadata": {
    "colab": {
      "name": "01-NLP-PF-PreProcessamentoDados.ipynb",
      "provenance": [],
      "collapsed_sections": [],
      "machine_shape": "hm"
    },
    "kernelspec": {
      "display_name": "Python 3",
      "name": "python3"
    }
  },
  "cells": [
    {
      "cell_type": "markdown",
      "metadata": {
        "id": "fbC5Fzi8ZWQF"
      },
      "source": [
        "# Projeto Final\r\n",
        "**Disciplina:** Aprendizado Profundo para Processamento de Linguagem Natural\r\n",
        "\r\n",
        "**Aluno:** Ismael Santana Silva\r\n",
        "\r\n",
        "**Notebook disponível em:** https://colab.research.google.com/drive/1h3DIsZGS50TfwIkAAmLUdIZszwpX3Zlf?usp=sharing\r\n",
        "\r\n",
        "**Dados utilizados neste projeto disponíveis em:** https://github.com/ismasantana/finalProjectNlp/"
      ]
    },
    {
      "cell_type": "markdown",
      "metadata": {
        "id": "UG-E0Bha_TSx"
      },
      "source": [
        "## Introdução\r\n"
      ]
    },
    {
      "cell_type": "markdown",
      "metadata": {
        "id": "tHOvoNkZ_4Im"
      },
      "source": [
        "O objetivo deste projeto foi realizar um estudo do Aprendizado de Máquina para classificar texto como sendo escrito por pessoas com depressão ou sem depressão. Porém, ao invés de utilizar palavras como atributo para a classificação, foram utilizadas as POS tags das palavras do texto como atributo.\r\n",
        "\r\n",
        "A ideia de utilizar essa abordagem foi para investigar se existem padrões gramaticais que podem identificar uma pessoa com depressão. Por exemplo, uma pessoa com depressão utiliza mais adjetivos do que pessoas uma pessoa que não está de depressão?\r\n",
        "\r\n",
        "Neste trabalhos foram avaliados os classificados **Random Forest** e **Long Short Term Memory(LSTM)**."
      ]
    },
    {
      "cell_type": "markdown",
      "metadata": {
        "id": "Ng6EUOXeBcol"
      },
      "source": [
        "## Coleta de dados"
      ]
    },
    {
      "cell_type": "markdown",
      "metadata": {
        "id": "Y8FF3V49CG2T"
      },
      "source": [
        "Para avaliação de classificadores automáticos na tarefa proposta, foram coletadas mensagens de fóruns do Reddit (https://www.reddit.com/). Foram selecionadas mensagens de fóruns que: (1) o assunto era sobre depressão, para formar o conjunto de mensagens de pessoas com depressão e (2) que os assuntos eram gerais, para formar um conjunto de mensagens que representa pessoas que não estão com depressão (ou grupo de controle).\r\n",
        "- Os fóruns sobre depressão foram:\r\n",
        "  - depression (https://www.reddit.com/r/depression/)\r\n",
        "  - depression_help (https://www.reddit.com/r/depression_help/)\r\n",
        "  - ForeverAlone (https://www.reddit.com/r/ForeverAlone/)\r\n",
        "- Os fóruns sobre assuntos gerais foram:\r\n",
        "  - Random_Acts_Of_Amazon (https://www.reddit.com/r/Random_Acts_Of_Amazon/)\r\n",
        "  - news (https://www.reddit.com/r/news/)\r\n",
        "\r\n",
        "Foi utilizado o script abaixo para coletar as mensagens dos fóruns supracitados:"
      ]
    },
    {
      "cell_type": "code",
      "metadata": {
        "id": "pXREYUfDBe1P"
      },
      "source": [
        "#https://praw.readthedocs.io/en/latest/getting_started/quick_start.html\r\n",
        "!pip install praw\r\n",
        "import praw\r\n",
        "import sys\r\n",
        "\r\n",
        "reddit = praw.Reddit(\r\n",
        "     client_id=\"0nzFl2jzvYnLTQ\",\r\n",
        "     client_secret=\"JWfAyFGDn6qKC5NI4hzuFhf80kKQ2A\",\r\n",
        "     user_agent=\"script:nlp:Ismasantana\",\r\n",
        "     username=\"Ismasantana\",\r\n",
        "    password=\"nlpproject\"\r\n",
        "     \r\n",
        ")\r\n",
        "#Foruns coletados: depression, depression_help, Random_Acts_Of_Amazon, news,  ForeverAlone\r\n",
        "forum = \"depression\" \r\n",
        "subreddit = reddit.subreddit(forum)\r\n",
        "\r\n",
        "for submission in subreddit.hot(limit=100000):\r\n",
        "    f =  open(\"comments_\" + forum + \".txt\", 'a', encoding='utf-8') \r\n",
        "    f.write('[${URL}] ' + submission.url + '\\n')    # Output: the URL the submission points to\r\n",
        "    f.write(submission.selftext.replace(\"\\n\", \" \").strip() + '\\n')\r\n",
        "    submission.comments.replace_more(limit=None)        \r\n",
        "    comments = submission.comments.list()\r\n",
        "    \r\n",
        "    for comment in comments:\r\n",
        "        f.write(comment.body.replace(\"\\n\", \" \").strip() + \"\\n\")"
      ],
      "execution_count": null,
      "outputs": []
    },
    {
      "cell_type": "markdown",
      "metadata": {
        "id": "s8ZylUxW_e03"
      },
      "source": [
        "## Pré-processamento dos dados"
      ]
    },
    {
      "cell_type": "markdown",
      "metadata": {
        "id": "-ibYaxuo-OLI"
      },
      "source": [
        "Importação das bibliotecas que são utilizadas no projeto e conexão com o Google drive para obtenção dos dados:"
      ]
    },
    {
      "cell_type": "code",
      "metadata": {
        "colab": {
          "base_uri": "https://localhost:8080/"
        },
        "id": "AdPPZvSaTAll",
        "outputId": "237d4c38-0a5c-4046-909d-03377ca376cc"
      },
      "source": [
        "import pandas as pd\r\n",
        "import numpy as np\r\n",
        "import nltk\r\n",
        "import string\r\n",
        "from nltk import word_tokenize\r\n",
        "from nltk.corpus import stopwords\r\n",
        "from nltk.stem.porter import PorterStemmer\r\n",
        "from nltk import pos_tag\r\n",
        "import nltk\r\n",
        "from sklearn.ensemble import RandomForestClassifier\r\n",
        "from sklearn.model_selection import cross_validate\r\n",
        "from sklearn.metrics import make_scorer, recall_score\r\n",
        "\r\n",
        "# nltk.download('punkt')\r\n",
        "# nltk.download('stopwords')\r\n",
        "# nltk.download('averaged_perceptron_tagger')\r\n",
        "\r\n",
        "from google.colab import drive\r\n",
        " \r\n",
        "drive.mount('/gdrive')\r\n",
        "\r\n",
        "%cd /gdrive/'MyDrive'/NLP/ProjetoFinal"
      ],
      "execution_count": null,
      "outputs": [
        {
          "output_type": "stream",
          "text": [
            "[nltk_data] Downloading package punkt to /root/nltk_data...\n",
            "[nltk_data]   Unzipping tokenizers/punkt.zip.\n",
            "[nltk_data] Downloading package stopwords to /root/nltk_data...\n",
            "[nltk_data]   Unzipping corpora/stopwords.zip.\n",
            "[nltk_data] Downloading package averaged_perceptron_tagger to\n",
            "[nltk_data]     /root/nltk_data...\n",
            "[nltk_data]   Unzipping taggers/averaged_perceptron_tagger.zip.\n",
            "Mounted at /gdrive\n",
            "/gdrive/MyDrive/NLP/ProjetoFinal\n"
          ],
          "name": "stdout"
        }
      ]
    },
    {
      "cell_type": "markdown",
      "metadata": {
        "id": "_uJCBlwJFdEa"
      },
      "source": [
        "Criação da função `preprocess` para gerar as POS tags do texto:"
      ]
    },
    {
      "cell_type": "code",
      "metadata": {
        "id": "hxtk6SizTnLN"
      },
      "source": [
        "import spacy\r\n",
        "import re\r\n",
        "nlp = spacy.load(\"en_core_web_sm\")\r\n",
        "\r\n",
        "def preprocess(text): \r\n",
        "  text = text.translate(str.maketrans('', '', string.punctuation))\r\n",
        "  \r\n",
        "  text = re.sub('\\W+',' ', text ).replace('  ', ' ').replace('—','')\r\n",
        "  doc = nlp(text)\r\n",
        "\r\n",
        "  return [(token.text,token.tag_)  for token in doc]"
      ],
      "execution_count": null,
      "outputs": []
    },
    {
      "cell_type": "markdown",
      "metadata": {
        "id": "xJvDsDDRFkE-"
      },
      "source": [
        "Função para ler o arquivo com as mensagens e gerar as POS tags com a função `preprocess`:"
      ]
    },
    {
      "cell_type": "code",
      "metadata": {
        "id": "VA-BJp2kTOLj"
      },
      "source": [
        "def fillCorpus(corpus, file):\r\n",
        "  print('Carregando:', file)\r\n",
        "  # i = 0\r\n",
        "  with open(file, 'r') as reader:\r\n",
        "      # Read and print the entire file line by line\r\n",
        "      line = reader.readline().strip().replace('\\n','')\r\n",
        "      while line != '':  # The EOF char is an empty string\r\n",
        "        if '[${URL}]' not in line: \r\n",
        "          \r\n",
        "          pos = preprocess(line)\r\n",
        "          if len(pos) > 0:\r\n",
        "            corpus.append([elem[1] for elem in pos if elem[1] not in ',:.'])\r\n",
        "            \r\n",
        "        line = reader.readline()"
      ],
      "execution_count": null,
      "outputs": []
    },
    {
      "cell_type": "markdown",
      "metadata": {
        "id": "-c0veqq_F7ur"
      },
      "source": [
        "Chamada da função `fillCorpus` para gerar o conjunto de dados, composto de POS tags, que será utilizado neste projeto:"
      ]
    },
    {
      "cell_type": "code",
      "metadata": {
        "colab": {
          "base_uri": "https://localhost:8080/"
        },
        "id": "6p0Bgy1gVX2p",
        "outputId": "92dcc27c-f801-4267-b26a-746de988c382"
      },
      "source": [
        "from random import sample\r\n",
        "\r\n",
        "corpusDepression = []\r\n",
        "corpusControl = []\r\n",
        "fillCorpus(corpusDepression, 'comments_depression.txt')\r\n",
        "fillCorpus(corpusDepression, 'comments_depression_help.txt')\r\n",
        "fillCorpus(corpusDepression, 'comments_ForeverAlone.txt')\r\n",
        "fillCorpus(corpusControl, 'comments_news.txt')\r\n",
        "fillCorpus(corpusControl, 'comments_Random_Acts_Of_Amazon.txt')\r\n",
        "\r\n",
        "corpus = corpusDepression + corpusControl"
      ],
      "execution_count": null,
      "outputs": [
        {
          "output_type": "stream",
          "text": [
            "Carregando: comments_depression.txt\n",
            "Carregando: comments_depression_help.txt\n",
            "Carregando: comments_ForeverAlone.txt\n",
            "Carregando: comments_news.txt\n",
            "Carregando: comments_Random_Acts_Of_Amazon.txt\n"
          ],
          "name": "stdout"
        }
      ]
    },
    {
      "cell_type": "markdown",
      "metadata": {
        "id": "MN8tHEOqGzXA"
      },
      "source": [
        "Computando a frequencia de cada POS tag para nas sentenças para que essas frequencias sejam utilizadas com atributos para o Random Forest."
      ]
    },
    {
      "cell_type": "code",
      "metadata": {
        "id": "cEsHrvIjatCz"
      },
      "source": [
        "from nltk import ngrams, FreqDist\r\n",
        "keys = set()\r\n",
        "countsCorpus = []\r\n",
        "for c in corpus:\r\n",
        "  counts = FreqDist(c)\r\n",
        "  keys = keys.union(set(list(counts.keys())))\r\n",
        "  countsCorpus.append(counts)\r\n",
        "\r\n",
        "dataset = []\r\n",
        "for counts in countsCorpus:\r\n",
        "  record = []\r\n",
        "  for k in keys:\r\n",
        "    if k in counts:\r\n",
        "      record.append(counts[k])\r\n",
        "    else:\r\n",
        "      record.append(0)\r\n",
        "  dataset.append(record)\r\n"
      ],
      "execution_count": null,
      "outputs": []
    },
    {
      "cell_type": "markdown",
      "metadata": {
        "id": "rx_YoKQDSx1T"
      },
      "source": [
        "Gerando o vetor `y` com os labels dos dados: "
      ]
    },
    {
      "cell_type": "code",
      "metadata": {
        "id": "kFyIntlzLJjJ"
      },
      "source": [
        "pd.options.display.max_columns = None\r\n",
        "\r\n",
        "y = [1 for i in range(len(corpusDepression))]\r\n",
        "y = y + [0 for i in range(len(corpusControl))]"
      ],
      "execution_count": null,
      "outputs": []
    },
    {
      "cell_type": "markdown",
      "metadata": {
        "id": "CutfHg-0TJcQ"
      },
      "source": [
        "Salvando os dados pré-processados com os atributos sendo a frequência das POS tags em cada mensagem:"
      ]
    },
    {
      "cell_type": "code",
      "metadata": {
        "id": "et27xiazTIzq"
      },
      "source": [
        "df2 = pd.DataFrame(np.array(dataset).reshape(len(dataset),len(dataset[0])),\r\n",
        "                   columns=keys)\r\n",
        "df2['depression'] = y\r\n",
        "df2.to_csv('pos_tag_frequencies.csv',index=False)"
      ],
      "execution_count": null,
      "outputs": []
    },
    {
      "cell_type": "markdown",
      "metadata": {
        "id": "mi5c8WCzTknt"
      },
      "source": [
        "Sando as mensagens pré-processadas com cada palavra sendo substituida/representada por sua POS tag:"
      ]
    },
    {
      "cell_type": "code",
      "metadata": {
        "id": "_ZZnEnwUhgLN"
      },
      "source": [
        "with open('corpus-pos-tag', 'w+') as file:\r\n",
        "  for i in range(len(corpus)):\r\n",
        "    file.write('{},{}\\n'.format(' '.join([str(elem) for elem in corpus[i] if elem not in ',.']), y[i]))"
      ],
      "execution_count": null,
      "outputs": []
    },
    {
      "cell_type": "markdown",
      "metadata": {
        "id": "Q1RhizxeT06y"
      },
      "source": [
        "## Caracterização dos dados"
      ]
    },
    {
      "cell_type": "markdown",
      "metadata": {
        "id": "S6APNEAoT5sg"
      },
      "source": [
        "Exemplo dos dados com atributos como a frequência das POS tags na mensagem:"
      ]
    },
    {
      "cell_type": "code",
      "metadata": {
        "colab": {
          "base_uri": "https://localhost:8080/",
          "height": 456
        },
        "id": "h1D7ZnuNX-AD",
        "outputId": "543a724d-c6f7-4127-e793-495389249101"
      },
      "source": [
        "dataset = pd.read_csv('pos_tag_frequencies.csv')\r\n",
        "dataset"
      ],
      "execution_count": null,
      "outputs": [
        {
          "output_type": "execute_result",
          "data": {
            "text/html": [
              "<div>\n",
              "<style scoped>\n",
              "    .dataframe tbody tr th:only-of-type {\n",
              "        vertical-align: middle;\n",
              "    }\n",
              "\n",
              "    .dataframe tbody tr th {\n",
              "        vertical-align: top;\n",
              "    }\n",
              "\n",
              "    .dataframe thead th {\n",
              "        text-align: right;\n",
              "    }\n",
              "</style>\n",
              "<table border=\"1\" class=\"dataframe\">\n",
              "  <thead>\n",
              "    <tr style=\"text-align: right;\">\n",
              "      <th></th>\n",
              "      <th>SYM</th>\n",
              "      <th>ADD</th>\n",
              "      <th>UH</th>\n",
              "      <th>NNP</th>\n",
              "      <th>NN</th>\n",
              "      <th>''</th>\n",
              "      <th>NFP</th>\n",
              "      <th>``</th>\n",
              "      <th>XX</th>\n",
              "      <th>LS</th>\n",
              "      <th>PRP</th>\n",
              "      <th>WDT</th>\n",
              "      <th>PRP$</th>\n",
              "      <th>JJS</th>\n",
              "      <th>WRB</th>\n",
              "      <th>JJR</th>\n",
              "      <th>-LRB-</th>\n",
              "      <th>FW</th>\n",
              "      <th>PDT</th>\n",
              "      <th>VBN</th>\n",
              "      <th>RB</th>\n",
              "      <th>VBG</th>\n",
              "      <th>CC</th>\n",
              "      <th>CD</th>\n",
              "      <th>RBR</th>\n",
              "      <th>DT</th>\n",
              "      <th>NNPS</th>\n",
              "      <th>VBP</th>\n",
              "      <th>MD</th>\n",
              "      <th>WP</th>\n",
              "      <th>VBD</th>\n",
              "      <th>-RRB-</th>\n",
              "      <th>RBS</th>\n",
              "      <th>RP</th>\n",
              "      <th>WP$</th>\n",
              "      <th>_SP</th>\n",
              "      <th>AFX</th>\n",
              "      <th>POS</th>\n",
              "      <th>VB</th>\n",
              "      <th>EX</th>\n",
              "      <th>TO</th>\n",
              "      <th>JJ</th>\n",
              "      <th>NNS</th>\n",
              "      <th>VBZ</th>\n",
              "      <th>$</th>\n",
              "      <th>IN</th>\n",
              "      <th>depression</th>\n",
              "    </tr>\n",
              "  </thead>\n",
              "  <tbody>\n",
              "    <tr>\n",
              "      <th>0</th>\n",
              "      <td>0</td>\n",
              "      <td>0</td>\n",
              "      <td>1</td>\n",
              "      <td>8</td>\n",
              "      <td>113</td>\n",
              "      <td>0</td>\n",
              "      <td>0</td>\n",
              "      <td>0</td>\n",
              "      <td>0</td>\n",
              "      <td>0</td>\n",
              "      <td>31</td>\n",
              "      <td>1</td>\n",
              "      <td>21</td>\n",
              "      <td>5</td>\n",
              "      <td>8</td>\n",
              "      <td>12</td>\n",
              "      <td>0</td>\n",
              "      <td>0</td>\n",
              "      <td>0</td>\n",
              "      <td>10</td>\n",
              "      <td>63</td>\n",
              "      <td>14</td>\n",
              "      <td>36</td>\n",
              "      <td>2</td>\n",
              "      <td>3</td>\n",
              "      <td>68</td>\n",
              "      <td>0</td>\n",
              "      <td>34</td>\n",
              "      <td>7</td>\n",
              "      <td>9</td>\n",
              "      <td>1</td>\n",
              "      <td>0</td>\n",
              "      <td>0</td>\n",
              "      <td>2</td>\n",
              "      <td>1</td>\n",
              "      <td>0</td>\n",
              "      <td>0</td>\n",
              "      <td>0</td>\n",
              "      <td>53</td>\n",
              "      <td>1</td>\n",
              "      <td>29</td>\n",
              "      <td>55</td>\n",
              "      <td>54</td>\n",
              "      <td>26</td>\n",
              "      <td>0</td>\n",
              "      <td>104</td>\n",
              "      <td>1</td>\n",
              "    </tr>\n",
              "    <tr>\n",
              "      <th>1</th>\n",
              "      <td>0</td>\n",
              "      <td>0</td>\n",
              "      <td>0</td>\n",
              "      <td>1</td>\n",
              "      <td>1</td>\n",
              "      <td>0</td>\n",
              "      <td>0</td>\n",
              "      <td>0</td>\n",
              "      <td>0</td>\n",
              "      <td>0</td>\n",
              "      <td>3</td>\n",
              "      <td>0</td>\n",
              "      <td>0</td>\n",
              "      <td>0</td>\n",
              "      <td>0</td>\n",
              "      <td>0</td>\n",
              "      <td>0</td>\n",
              "      <td>0</td>\n",
              "      <td>0</td>\n",
              "      <td>0</td>\n",
              "      <td>0</td>\n",
              "      <td>0</td>\n",
              "      <td>2</td>\n",
              "      <td>0</td>\n",
              "      <td>0</td>\n",
              "      <td>1</td>\n",
              "      <td>0</td>\n",
              "      <td>2</td>\n",
              "      <td>0</td>\n",
              "      <td>0</td>\n",
              "      <td>0</td>\n",
              "      <td>0</td>\n",
              "      <td>0</td>\n",
              "      <td>0</td>\n",
              "      <td>0</td>\n",
              "      <td>0</td>\n",
              "      <td>0</td>\n",
              "      <td>0</td>\n",
              "      <td>1</td>\n",
              "      <td>0</td>\n",
              "      <td>0</td>\n",
              "      <td>0</td>\n",
              "      <td>0</td>\n",
              "      <td>0</td>\n",
              "      <td>0</td>\n",
              "      <td>2</td>\n",
              "      <td>1</td>\n",
              "    </tr>\n",
              "    <tr>\n",
              "      <th>2</th>\n",
              "      <td>0</td>\n",
              "      <td>0</td>\n",
              "      <td>0</td>\n",
              "      <td>1</td>\n",
              "      <td>30</td>\n",
              "      <td>0</td>\n",
              "      <td>0</td>\n",
              "      <td>0</td>\n",
              "      <td>0</td>\n",
              "      <td>0</td>\n",
              "      <td>19</td>\n",
              "      <td>1</td>\n",
              "      <td>5</td>\n",
              "      <td>1</td>\n",
              "      <td>1</td>\n",
              "      <td>2</td>\n",
              "      <td>0</td>\n",
              "      <td>0</td>\n",
              "      <td>0</td>\n",
              "      <td>7</td>\n",
              "      <td>26</td>\n",
              "      <td>13</td>\n",
              "      <td>10</td>\n",
              "      <td>2</td>\n",
              "      <td>1</td>\n",
              "      <td>24</td>\n",
              "      <td>0</td>\n",
              "      <td>17</td>\n",
              "      <td>4</td>\n",
              "      <td>1</td>\n",
              "      <td>1</td>\n",
              "      <td>0</td>\n",
              "      <td>0</td>\n",
              "      <td>0</td>\n",
              "      <td>0</td>\n",
              "      <td>0</td>\n",
              "      <td>0</td>\n",
              "      <td>0</td>\n",
              "      <td>15</td>\n",
              "      <td>0</td>\n",
              "      <td>4</td>\n",
              "      <td>17</td>\n",
              "      <td>13</td>\n",
              "      <td>10</td>\n",
              "      <td>0</td>\n",
              "      <td>26</td>\n",
              "      <td>1</td>\n",
              "    </tr>\n",
              "    <tr>\n",
              "      <th>3</th>\n",
              "      <td>0</td>\n",
              "      <td>0</td>\n",
              "      <td>0</td>\n",
              "      <td>1</td>\n",
              "      <td>8</td>\n",
              "      <td>0</td>\n",
              "      <td>0</td>\n",
              "      <td>0</td>\n",
              "      <td>0</td>\n",
              "      <td>0</td>\n",
              "      <td>5</td>\n",
              "      <td>1</td>\n",
              "      <td>0</td>\n",
              "      <td>1</td>\n",
              "      <td>2</td>\n",
              "      <td>1</td>\n",
              "      <td>0</td>\n",
              "      <td>0</td>\n",
              "      <td>0</td>\n",
              "      <td>1</td>\n",
              "      <td>3</td>\n",
              "      <td>0</td>\n",
              "      <td>1</td>\n",
              "      <td>0</td>\n",
              "      <td>0</td>\n",
              "      <td>5</td>\n",
              "      <td>0</td>\n",
              "      <td>1</td>\n",
              "      <td>4</td>\n",
              "      <td>2</td>\n",
              "      <td>1</td>\n",
              "      <td>0</td>\n",
              "      <td>0</td>\n",
              "      <td>1</td>\n",
              "      <td>0</td>\n",
              "      <td>0</td>\n",
              "      <td>0</td>\n",
              "      <td>0</td>\n",
              "      <td>4</td>\n",
              "      <td>1</td>\n",
              "      <td>0</td>\n",
              "      <td>2</td>\n",
              "      <td>2</td>\n",
              "      <td>3</td>\n",
              "      <td>0</td>\n",
              "      <td>8</td>\n",
              "      <td>1</td>\n",
              "    </tr>\n",
              "    <tr>\n",
              "      <th>4</th>\n",
              "      <td>0</td>\n",
              "      <td>0</td>\n",
              "      <td>1</td>\n",
              "      <td>1</td>\n",
              "      <td>8</td>\n",
              "      <td>0</td>\n",
              "      <td>0</td>\n",
              "      <td>0</td>\n",
              "      <td>0</td>\n",
              "      <td>0</td>\n",
              "      <td>6</td>\n",
              "      <td>0</td>\n",
              "      <td>2</td>\n",
              "      <td>0</td>\n",
              "      <td>0</td>\n",
              "      <td>3</td>\n",
              "      <td>0</td>\n",
              "      <td>0</td>\n",
              "      <td>0</td>\n",
              "      <td>2</td>\n",
              "      <td>2</td>\n",
              "      <td>1</td>\n",
              "      <td>3</td>\n",
              "      <td>1</td>\n",
              "      <td>0</td>\n",
              "      <td>7</td>\n",
              "      <td>0</td>\n",
              "      <td>4</td>\n",
              "      <td>0</td>\n",
              "      <td>0</td>\n",
              "      <td>0</td>\n",
              "      <td>0</td>\n",
              "      <td>0</td>\n",
              "      <td>0</td>\n",
              "      <td>0</td>\n",
              "      <td>0</td>\n",
              "      <td>0</td>\n",
              "      <td>0</td>\n",
              "      <td>8</td>\n",
              "      <td>0</td>\n",
              "      <td>4</td>\n",
              "      <td>3</td>\n",
              "      <td>5</td>\n",
              "      <td>4</td>\n",
              "      <td>0</td>\n",
              "      <td>11</td>\n",
              "      <td>1</td>\n",
              "    </tr>\n",
              "    <tr>\n",
              "      <th>...</th>\n",
              "      <td>...</td>\n",
              "      <td>...</td>\n",
              "      <td>...</td>\n",
              "      <td>...</td>\n",
              "      <td>...</td>\n",
              "      <td>...</td>\n",
              "      <td>...</td>\n",
              "      <td>...</td>\n",
              "      <td>...</td>\n",
              "      <td>...</td>\n",
              "      <td>...</td>\n",
              "      <td>...</td>\n",
              "      <td>...</td>\n",
              "      <td>...</td>\n",
              "      <td>...</td>\n",
              "      <td>...</td>\n",
              "      <td>...</td>\n",
              "      <td>...</td>\n",
              "      <td>...</td>\n",
              "      <td>...</td>\n",
              "      <td>...</td>\n",
              "      <td>...</td>\n",
              "      <td>...</td>\n",
              "      <td>...</td>\n",
              "      <td>...</td>\n",
              "      <td>...</td>\n",
              "      <td>...</td>\n",
              "      <td>...</td>\n",
              "      <td>...</td>\n",
              "      <td>...</td>\n",
              "      <td>...</td>\n",
              "      <td>...</td>\n",
              "      <td>...</td>\n",
              "      <td>...</td>\n",
              "      <td>...</td>\n",
              "      <td>...</td>\n",
              "      <td>...</td>\n",
              "      <td>...</td>\n",
              "      <td>...</td>\n",
              "      <td>...</td>\n",
              "      <td>...</td>\n",
              "      <td>...</td>\n",
              "      <td>...</td>\n",
              "      <td>...</td>\n",
              "      <td>...</td>\n",
              "      <td>...</td>\n",
              "      <td>...</td>\n",
              "    </tr>\n",
              "    <tr>\n",
              "      <th>149089</th>\n",
              "      <td>0</td>\n",
              "      <td>0</td>\n",
              "      <td>1</td>\n",
              "      <td>0</td>\n",
              "      <td>1</td>\n",
              "      <td>0</td>\n",
              "      <td>0</td>\n",
              "      <td>0</td>\n",
              "      <td>0</td>\n",
              "      <td>0</td>\n",
              "      <td>3</td>\n",
              "      <td>0</td>\n",
              "      <td>0</td>\n",
              "      <td>0</td>\n",
              "      <td>0</td>\n",
              "      <td>0</td>\n",
              "      <td>0</td>\n",
              "      <td>0</td>\n",
              "      <td>1</td>\n",
              "      <td>0</td>\n",
              "      <td>2</td>\n",
              "      <td>0</td>\n",
              "      <td>0</td>\n",
              "      <td>0</td>\n",
              "      <td>0</td>\n",
              "      <td>2</td>\n",
              "      <td>0</td>\n",
              "      <td>3</td>\n",
              "      <td>0</td>\n",
              "      <td>0</td>\n",
              "      <td>0</td>\n",
              "      <td>0</td>\n",
              "      <td>0</td>\n",
              "      <td>0</td>\n",
              "      <td>0</td>\n",
              "      <td>0</td>\n",
              "      <td>0</td>\n",
              "      <td>0</td>\n",
              "      <td>0</td>\n",
              "      <td>0</td>\n",
              "      <td>0</td>\n",
              "      <td>2</td>\n",
              "      <td>1</td>\n",
              "      <td>1</td>\n",
              "      <td>0</td>\n",
              "      <td>2</td>\n",
              "      <td>0</td>\n",
              "    </tr>\n",
              "    <tr>\n",
              "      <th>149090</th>\n",
              "      <td>0</td>\n",
              "      <td>0</td>\n",
              "      <td>1</td>\n",
              "      <td>0</td>\n",
              "      <td>4</td>\n",
              "      <td>0</td>\n",
              "      <td>0</td>\n",
              "      <td>0</td>\n",
              "      <td>0</td>\n",
              "      <td>0</td>\n",
              "      <td>2</td>\n",
              "      <td>0</td>\n",
              "      <td>0</td>\n",
              "      <td>0</td>\n",
              "      <td>0</td>\n",
              "      <td>0</td>\n",
              "      <td>0</td>\n",
              "      <td>0</td>\n",
              "      <td>0</td>\n",
              "      <td>0</td>\n",
              "      <td>3</td>\n",
              "      <td>1</td>\n",
              "      <td>2</td>\n",
              "      <td>0</td>\n",
              "      <td>0</td>\n",
              "      <td>3</td>\n",
              "      <td>0</td>\n",
              "      <td>2</td>\n",
              "      <td>0</td>\n",
              "      <td>0</td>\n",
              "      <td>0</td>\n",
              "      <td>0</td>\n",
              "      <td>0</td>\n",
              "      <td>0</td>\n",
              "      <td>0</td>\n",
              "      <td>0</td>\n",
              "      <td>0</td>\n",
              "      <td>0</td>\n",
              "      <td>0</td>\n",
              "      <td>0</td>\n",
              "      <td>0</td>\n",
              "      <td>1</td>\n",
              "      <td>0</td>\n",
              "      <td>1</td>\n",
              "      <td>0</td>\n",
              "      <td>1</td>\n",
              "      <td>0</td>\n",
              "    </tr>\n",
              "    <tr>\n",
              "      <th>149091</th>\n",
              "      <td>0</td>\n",
              "      <td>0</td>\n",
              "      <td>1</td>\n",
              "      <td>0</td>\n",
              "      <td>1</td>\n",
              "      <td>0</td>\n",
              "      <td>0</td>\n",
              "      <td>0</td>\n",
              "      <td>0</td>\n",
              "      <td>0</td>\n",
              "      <td>6</td>\n",
              "      <td>0</td>\n",
              "      <td>0</td>\n",
              "      <td>0</td>\n",
              "      <td>1</td>\n",
              "      <td>0</td>\n",
              "      <td>0</td>\n",
              "      <td>0</td>\n",
              "      <td>0</td>\n",
              "      <td>0</td>\n",
              "      <td>4</td>\n",
              "      <td>0</td>\n",
              "      <td>1</td>\n",
              "      <td>1</td>\n",
              "      <td>0</td>\n",
              "      <td>3</td>\n",
              "      <td>0</td>\n",
              "      <td>5</td>\n",
              "      <td>0</td>\n",
              "      <td>0</td>\n",
              "      <td>1</td>\n",
              "      <td>0</td>\n",
              "      <td>0</td>\n",
              "      <td>0</td>\n",
              "      <td>0</td>\n",
              "      <td>0</td>\n",
              "      <td>0</td>\n",
              "      <td>0</td>\n",
              "      <td>3</td>\n",
              "      <td>0</td>\n",
              "      <td>3</td>\n",
              "      <td>3</td>\n",
              "      <td>1</td>\n",
              "      <td>1</td>\n",
              "      <td>0</td>\n",
              "      <td>1</td>\n",
              "      <td>0</td>\n",
              "    </tr>\n",
              "    <tr>\n",
              "      <th>149092</th>\n",
              "      <td>0</td>\n",
              "      <td>0</td>\n",
              "      <td>0</td>\n",
              "      <td>0</td>\n",
              "      <td>0</td>\n",
              "      <td>0</td>\n",
              "      <td>0</td>\n",
              "      <td>0</td>\n",
              "      <td>0</td>\n",
              "      <td>0</td>\n",
              "      <td>0</td>\n",
              "      <td>0</td>\n",
              "      <td>0</td>\n",
              "      <td>0</td>\n",
              "      <td>0</td>\n",
              "      <td>0</td>\n",
              "      <td>0</td>\n",
              "      <td>0</td>\n",
              "      <td>0</td>\n",
              "      <td>0</td>\n",
              "      <td>0</td>\n",
              "      <td>0</td>\n",
              "      <td>0</td>\n",
              "      <td>0</td>\n",
              "      <td>0</td>\n",
              "      <td>0</td>\n",
              "      <td>0</td>\n",
              "      <td>0</td>\n",
              "      <td>0</td>\n",
              "      <td>0</td>\n",
              "      <td>0</td>\n",
              "      <td>0</td>\n",
              "      <td>0</td>\n",
              "      <td>0</td>\n",
              "      <td>0</td>\n",
              "      <td>1</td>\n",
              "      <td>0</td>\n",
              "      <td>0</td>\n",
              "      <td>0</td>\n",
              "      <td>0</td>\n",
              "      <td>0</td>\n",
              "      <td>0</td>\n",
              "      <td>0</td>\n",
              "      <td>0</td>\n",
              "      <td>0</td>\n",
              "      <td>0</td>\n",
              "      <td>0</td>\n",
              "    </tr>\n",
              "    <tr>\n",
              "      <th>149093</th>\n",
              "      <td>0</td>\n",
              "      <td>0</td>\n",
              "      <td>0</td>\n",
              "      <td>1</td>\n",
              "      <td>0</td>\n",
              "      <td>0</td>\n",
              "      <td>0</td>\n",
              "      <td>0</td>\n",
              "      <td>0</td>\n",
              "      <td>0</td>\n",
              "      <td>0</td>\n",
              "      <td>0</td>\n",
              "      <td>0</td>\n",
              "      <td>0</td>\n",
              "      <td>0</td>\n",
              "      <td>0</td>\n",
              "      <td>0</td>\n",
              "      <td>0</td>\n",
              "      <td>0</td>\n",
              "      <td>0</td>\n",
              "      <td>0</td>\n",
              "      <td>0</td>\n",
              "      <td>0</td>\n",
              "      <td>0</td>\n",
              "      <td>0</td>\n",
              "      <td>0</td>\n",
              "      <td>0</td>\n",
              "      <td>0</td>\n",
              "      <td>0</td>\n",
              "      <td>0</td>\n",
              "      <td>0</td>\n",
              "      <td>0</td>\n",
              "      <td>0</td>\n",
              "      <td>0</td>\n",
              "      <td>0</td>\n",
              "      <td>0</td>\n",
              "      <td>0</td>\n",
              "      <td>0</td>\n",
              "      <td>0</td>\n",
              "      <td>0</td>\n",
              "      <td>0</td>\n",
              "      <td>0</td>\n",
              "      <td>0</td>\n",
              "      <td>0</td>\n",
              "      <td>0</td>\n",
              "      <td>0</td>\n",
              "      <td>0</td>\n",
              "    </tr>\n",
              "  </tbody>\n",
              "</table>\n",
              "<p>149094 rows × 47 columns</p>\n",
              "</div>"
            ],
            "text/plain": [
              "        SYM  ADD  UH  NNP   NN  ''  NFP  ...  TO  JJ  NNS  VBZ  $   IN  depression\n",
              "0         0    0   1    8  113   0    0  ...  29  55   54   26  0  104           1\n",
              "1         0    0   0    1    1   0    0  ...   0   0    0    0  0    2           1\n",
              "2         0    0   0    1   30   0    0  ...   4  17   13   10  0   26           1\n",
              "3         0    0   0    1    8   0    0  ...   0   2    2    3  0    8           1\n",
              "4         0    0   1    1    8   0    0  ...   4   3    5    4  0   11           1\n",
              "...     ...  ...  ..  ...  ...  ..  ...  ...  ..  ..  ...  ... ..  ...         ...\n",
              "149089    0    0   1    0    1   0    0  ...   0   2    1    1  0    2           0\n",
              "149090    0    0   1    0    4   0    0  ...   0   1    0    1  0    1           0\n",
              "149091    0    0   1    0    1   0    0  ...   3   3    1    1  0    1           0\n",
              "149092    0    0   0    0    0   0    0  ...   0   0    0    0  0    0           0\n",
              "149093    0    0   0    1    0   0    0  ...   0   0    0    0  0    0           0\n",
              "\n",
              "[149094 rows x 47 columns]"
            ]
          },
          "metadata": {
            "tags": []
          },
          "execution_count": 5
        }
      ]
    },
    {
      "cell_type": "markdown",
      "metadata": {
        "id": "OUEBVaRDSmPp"
      },
      "source": [
        "Distribuição dos dados por classe (i.e., depressão ou controle):"
      ]
    },
    {
      "cell_type": "code",
      "metadata": {
        "colab": {
          "base_uri": "https://localhost:8080/",
          "height": 442
        },
        "id": "GCwWpG6KRbgO",
        "outputId": "cf54d7c3-29bd-403f-dc27-96eba851849e"
      },
      "source": [
        "#dataset['depression'].hist()\r\n",
        "import matplotlib.pyplot as plt\r\n",
        "import numpy as np\r\n",
        "\r\n",
        "plt.rcParams[\"figure.figsize\"] = (8,7)\r\n",
        "\r\n",
        "fig, ax = plt.subplots()\r\n",
        "#bar = plt.bar(df['tag'].tolist(), df['acc'].tolist())\r\n",
        "bar = plt.bar(['Controle', 'Depressão'],dataset.groupby('depression').size().values,width=0.3)\r\n",
        "\r\n",
        "def autolabel(rects):\r\n",
        "    \"\"\"Attach a text label above each bar in *rects*, displaying its height.\"\"\"\r\n",
        "    for rect in rects:\r\n",
        "        height = rect.get_height()\r\n",
        "        ax.annotate('{}'.format(round(height,2)),\r\n",
        "                    xy=(rect.get_x() + rect.get_width() / 2, height),\r\n",
        "                    xytext=(0, 3),  # 3 points vertical offset\r\n",
        "                    textcoords=\"offset points\",\r\n",
        "                    ha='center', va='bottom')\r\n",
        "autolabel(bar)\r\n",
        "plt.ylabel('Número de sentenças')\r\n",
        "plt.xlabel('Classes')\r\n",
        "#plt.xticks(rotation = 70)\r\n",
        "plt.show()"
      ],
      "execution_count": null,
      "outputs": [
        {
          "output_type": "display_data",
          "data": {
            "image/png": "[encoded data removed]",
            "text/plain": [
              "<Figure size 576x504 with 1 Axes>"
            ]
          },
          "metadata": {
            "tags": [],
            "needs_background": "light"
          }
        }
      ]
    },
    {
      "cell_type": "markdown",
      "metadata": {
        "id": "vqhGDIH8UOAt"
      },
      "source": [
        "Frequencia das POS tags:"
      ]
    },
    {
      "cell_type": "code",
      "metadata": {
        "id": "-qnQwl8MX980",
        "colab": {
          "base_uri": "https://localhost:8080/",
          "height": 625
        },
        "outputId": "8bc57d03-43d8-4f05-c790-e83e73910ba8"
      },
      "source": [
        "#dataset['depression'].hist()\r\n",
        "import matplotlib.pyplot as plt\r\n",
        "import numpy as np\r\n",
        "\r\n",
        "dfDepression = dataset[dataset['depression'] == 0].drop(columns=['depression'])\r\n",
        "dfControl = dataset[dataset['depression'] == 1].drop(columns=['depression'])\r\n",
        "\r\n",
        "plt.rcParams[\"figure.figsize\"] = (20,10)\r\n",
        "\r\n",
        "fig, ax = plt.subplots()\r\n",
        "barDepression = plt.bar(dfDepression.columns,dfDepression.sum().values) #,width=0.3\r\n",
        "barControl = plt.bar(dfControl.columns,dfControl.sum().values) #,width=0.3\r\n",
        "\r\n",
        "plt.ylabel('Frequência das POS tags')\r\n",
        "plt.xlabel('POS tags')\r\n",
        "plt.xticks(rotation = 70)\r\n",
        "plt.show()"
      ],
      "execution_count": null,
      "outputs": [
        {
          "output_type": "display_data",
          "data": {
            "image/png": "[encoded data removed]",
            "text/plain": [
              "<Figure size 1440x720 with 1 Axes>"
            ]
          },
          "metadata": {
            "tags": [],
            "needs_background": "light"
          }
        }
      ]
    },
    {
      "cell_type": "markdown",
      "metadata": {
        "id": "YmW4eUrxhsMh"
      },
      "source": [
        "Porcentagem de POS tags nas mensagens rotuladas como Depressão e Controle:"
      ]
    },
    {
      "cell_type": "code",
      "metadata": {
        "colab": {
          "base_uri": "https://localhost:8080/",
          "height": 664
        },
        "id": "9d1xZD1IXags",
        "outputId": "a9d00850-020f-4e0e-992e-b2d3b8a078de"
      },
      "source": [
        "import matplotlib\r\n",
        "import matplotlib.pyplot as plt\r\n",
        "import numpy as np\r\n",
        "\r\n",
        "x = np.arange(len(dfDepression.columns))  # the label locations\r\n",
        "width = 0.35  # the width of the bars\r\n",
        "\r\n",
        "fig, ax = plt.subplots()\r\n",
        "rects1 = ax.bar(x - width/2, dfDepression.sum().values / dfDepression.sum().values.sum(), width, label='Depressão')\r\n",
        "rects2 = ax.bar(x + width/2, dfControl.sum().values / dfControl.sum().values.sum(), width, label='Controle')\r\n",
        "\r\n",
        "# Add some text for labels, title and custom x-axis tick labels, etc.\r\n",
        "ax.set_ylabel('% da POS tag no subconjunto')\r\n",
        "#ax.set_title('Porcentagens das POS tags em cada grupos')\r\n",
        "ax.set_xticks(x)\r\n",
        "ax.set_xticklabels(dfDepression.columns)\r\n",
        "ax.legend()\r\n",
        "\r\n",
        "fig.tight_layout()\r\n",
        "plt.xlabel('POS tags')\r\n",
        "plt.xticks(rotation = 70)\r\n",
        "plt.show()"
      ],
      "execution_count": null,
      "outputs": [
        {
          "output_type": "display_data",
          "data": {
            "image/png": "[encoded data removed]",
            "text/plain": [
              "<Figure size 1440x720 with 1 Axes>"
            ]
          },
          "metadata": {
            "tags": [],
            "needs_background": "light"
          }
        }
      ]
    },
    {
      "cell_type": "markdown",
      "metadata": {
        "id": "4bYwh9Yikjr0"
      },
      "source": [
        "Diferença máxima:"
      ]
    },
    {
      "cell_type": "code",
      "metadata": {
        "colab": {
          "base_uri": "https://localhost:8080/"
        },
        "id": "6Qz2gDwrjluW",
        "outputId": "e652e175-0215-491a-9d76-4fad691da0ce"
      },
      "source": [
        "np.amax(\r\n",
        "  (dfDepression.sum().values / dfDepression.sum().values.sum()) - \r\n",
        "  (dfControl.sum().values / dfControl.sum().values.sum()))"
      ],
      "execution_count": null,
      "outputs": [
        {
          "output_type": "execute_result",
          "data": {
            "text/plain": [
              "0.027282325873390238"
            ]
          },
          "metadata": {
            "tags": []
          },
          "execution_count": 33
        }
      ]
    },
    {
      "cell_type": "markdown",
      "metadata": {
        "id": "MAhBh3syjCOg"
      },
      "source": [
        "Como pode ser observado não existe um grande diferença entre as porcentagens dad POS tags no dois subgrupos avalidos. A maior diferença foi observada para a POS tag PRP (Pronome pessoal) que é aproximadamente 3%."
      ]
    }
  ]
}